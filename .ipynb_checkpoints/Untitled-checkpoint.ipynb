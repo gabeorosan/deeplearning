{
 "cells": [
  {
   "cell_type": "code",
   "execution_count": null,
   "id": "19982158-953c-4acf-a79b-45f4d9e4d844",
   "metadata": {},
   "outputs": [],
   "source": [
    "#1 & 2 layer neural net from scratch in numpy w/ math"
   ]
  },
  {
   "cell_type": "code",
   "execution_count": 1,
   "id": "d096aa06-744f-4af0-bb98-87b489757bf2",
   "metadata": {},
   "outputs": [],
   "source": [
    "import os\n",
    "import logging\n",
    "logging.getLogger('tensorflow').setLevel(logging.FATAL)\n",
    "os.environ['TF_CPP_MIN_LOG_LEVEL'] = '3'  # FATAL\\n"
   ]
  },
  {
   "cell_type": "code",
   "execution_count": 2,
   "id": "806f539f-1b0a-4b7a-957a-41f7df2d50e3",
   "metadata": {},
   "outputs": [],
   "source": [
    "import tensorflow as tf\n",
    "import tensorflow_datasets as tfds"
   ]
  },
  {
   "cell_type": "code",
   "execution_count": 10,
   "id": "d621297f-9406-4a1f-9fa7-1e37e90fc564",
   "metadata": {},
   "outputs": [],
   "source": [
    "batch_size = 64\n",
    "dataset = tfds.load(name=\"mnist\", split=\"train\", shuffle_files=True)\n",
    "dataset = dataset.cache()\n",
    "dataset = dataset.batch(batch_size)\n",
    "ds_it = list(dataset.as_numpy_iterator())"
   ]
  }
 ],
 "metadata": {
  "kernelspec": {
   "display_name": "Python 3 (ipykernel)",
   "language": "python",
   "name": "python3"
  },
  "language_info": {
   "codemirror_mode": {
    "name": "ipython",
    "version": 3
   },
   "file_extension": ".py",
   "mimetype": "text/x-python",
   "name": "python",
   "nbconvert_exporter": "python",
   "pygments_lexer": "ipython3",
   "version": "3.10.6"
  }
 },
 "nbformat": 4,
 "nbformat_minor": 5
}
